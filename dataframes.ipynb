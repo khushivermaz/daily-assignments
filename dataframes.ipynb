{
 "cells": [
  {
   "cell_type": "code",
   "execution_count": 3,
   "id": "dcb604b2-1d94-4e88-8bf6-c13972b55684",
   "metadata": {},
   "outputs": [],
   "source": [
    "import pandas as pd\n",
    "import numpy as np"
   ]
  },
  {
   "cell_type": "code",
   "execution_count": 11,
   "id": "4056c50c-42bf-44d2-b669-fe320dd1249c",
   "metadata": {},
   "outputs": [],
   "source": [
    "students=np.random.randint(low=1,high=100,size=[20,])\n",
    "\n",
    "subjects=np.random.choice(['maths','english','physics','chemistry'],20)\n",
    "\n",
    "default=np.random.choice([0,1],20)"
   ]
  },
  {
   "cell_type": "code",
   "execution_count": 13,
   "id": "cd2dbfef-d876-40af-a069-67428542459b",
   "metadata": {},
   "outputs": [
    {
     "data": {
      "text/plain": [
       "array([36, 14, 54,  1, 40, 74, 51, 85, 40, 75, 23, 19, 83, 92, 63, 37, 76,\n",
       "       18, 73, 76])"
      ]
     },
     "execution_count": 13,
     "metadata": {},
     "output_type": "execute_result"
    }
   ],
   "source": [
    "students"
   ]
  },
  {
   "cell_type": "code",
   "execution_count": 15,
   "id": "68c4b560-d427-4319-a728-ad128fbfeb76",
   "metadata": {},
   "outputs": [
    {
     "data": {
      "text/plain": [
       "array([ 1, 14, 18, 19, 23, 36, 37, 40, 40, 51, 54, 63, 73, 74, 75, 76, 76,\n",
       "       83, 85, 92])"
      ]
     },
     "execution_count": 15,
     "metadata": {},
     "output_type": "execute_result"
    }
   ],
   "source": [
    "np.sort(students)"
   ]
  },
  {
   "cell_type": "code",
   "execution_count": 19,
   "id": "9b276ec6-94c5-4532-a3f6-496a3d648dbd",
   "metadata": {},
   "outputs": [
    {
     "data": {
      "text/plain": [
       "array([0, 0, 0, 0, 1, 0, 0, 0, 0, 1, 0, 1, 0, 0, 0, 0, 1, 1, 0, 0])"
      ]
     },
     "execution_count": 19,
     "metadata": {},
     "output_type": "execute_result"
    }
   ],
   "source": [
    "default"
   ]
  },
  {
   "cell_type": "code",
   "execution_count": 23,
   "id": "c01c6da7-e186-484e-b6da-08f6738b4f90",
   "metadata": {},
   "outputs": [
    {
     "data": {
      "text/plain": [
       "array(['chemistry', 'physics', 'chemistry', 'english', 'english',\n",
       "       'english', 'maths', 'chemistry', 'physics', 'english', 'chemistry',\n",
       "       'chemistry', 'english', 'chemistry', 'english', 'english',\n",
       "       'english', 'chemistry', 'chemistry', 'chemistry'], dtype='<U9')"
      ]
     },
     "execution_count": 23,
     "metadata": {},
     "output_type": "execute_result"
    }
   ],
   "source": [
    "subjects"
   ]
  },
  {
   "cell_type": "code",
   "execution_count": 25,
   "id": "dbf1787e-46d3-4cf3-92fb-f88dfbff2f80",
   "metadata": {},
   "outputs": [
    {
     "data": {
      "text/plain": [
       "[(3, 6, 'a'), (4, 7, 'b'), (5, 8, 'c')]"
      ]
     },
     "execution_count": 25,
     "metadata": {},
     "output_type": "execute_result"
    }
   ],
   "source": [
    "a=[3,4,5]\n",
    "b=[6,7,8]\n",
    "c=['a','b','c']\n",
    "list(zip(a,b,c))"
   ]
  },
  {
   "cell_type": "code",
   "execution_count": 27,
   "id": "7fea0ec5-a00c-487e-83ce-22cf7e6c24f3",
   "metadata": {},
   "outputs": [],
   "source": [
    "mydata=list(zip(students,subjects,default))"
   ]
  },
  {
   "cell_type": "code",
   "execution_count": 29,
   "id": "c0cb6280-5038-4222-a834-5d7aea3ba478",
   "metadata": {},
   "outputs": [
    {
     "data": {
      "text/plain": [
       "[(36, 'chemistry', 0),\n",
       " (14, 'physics', 0),\n",
       " (54, 'chemistry', 0),\n",
       " (1, 'english', 0),\n",
       " (40, 'english', 1),\n",
       " (74, 'english', 0),\n",
       " (51, 'maths', 0),\n",
       " (85, 'chemistry', 0),\n",
       " (40, 'physics', 0),\n",
       " (75, 'english', 1),\n",
       " (23, 'chemistry', 0),\n",
       " (19, 'chemistry', 1),\n",
       " (83, 'english', 0),\n",
       " (92, 'chemistry', 0),\n",
       " (63, 'english', 0),\n",
       " (37, 'english', 0),\n",
       " (76, 'english', 1),\n",
       " (18, 'chemistry', 1),\n",
       " (73, 'chemistry', 0),\n",
       " (76, 'chemistry', 0)]"
      ]
     },
     "execution_count": 29,
     "metadata": {},
     "output_type": "execute_result"
    }
   ],
   "source": [
    "mydata"
   ]
  },
  {
   "cell_type": "code",
   "execution_count": 31,
   "id": "9f6e630d-5c2f-454d-9135-29aafad13786",
   "metadata": {},
   "outputs": [],
   "source": [
    "df=pd.DataFrame(data=mydata,columns=['students','subjects','default'])\n"
   ]
  },
  {
   "cell_type": "code",
   "execution_count": 33,
   "id": "41d9d994-f656-4c4e-b999-ee51458efdcd",
   "metadata": {},
   "outputs": [
    {
     "data": {
      "text/html": [
       "<div>\n",
       "<style scoped>\n",
       "    .dataframe tbody tr th:only-of-type {\n",
       "        vertical-align: middle;\n",
       "    }\n",
       "\n",
       "    .dataframe tbody tr th {\n",
       "        vertical-align: top;\n",
       "    }\n",
       "\n",
       "    .dataframe thead th {\n",
       "        text-align: right;\n",
       "    }\n",
       "</style>\n",
       "<table border=\"1\" class=\"dataframe\">\n",
       "  <thead>\n",
       "    <tr style=\"text-align: right;\">\n",
       "      <th></th>\n",
       "      <th>students</th>\n",
       "      <th>subjects</th>\n",
       "      <th>default</th>\n",
       "    </tr>\n",
       "  </thead>\n",
       "  <tbody>\n",
       "    <tr>\n",
       "      <th>0</th>\n",
       "      <td>36</td>\n",
       "      <td>chemistry</td>\n",
       "      <td>0</td>\n",
       "    </tr>\n",
       "    <tr>\n",
       "      <th>1</th>\n",
       "      <td>14</td>\n",
       "      <td>physics</td>\n",
       "      <td>0</td>\n",
       "    </tr>\n",
       "    <tr>\n",
       "      <th>2</th>\n",
       "      <td>54</td>\n",
       "      <td>chemistry</td>\n",
       "      <td>0</td>\n",
       "    </tr>\n",
       "    <tr>\n",
       "      <th>3</th>\n",
       "      <td>1</td>\n",
       "      <td>english</td>\n",
       "      <td>0</td>\n",
       "    </tr>\n",
       "    <tr>\n",
       "      <th>4</th>\n",
       "      <td>40</td>\n",
       "      <td>english</td>\n",
       "      <td>1</td>\n",
       "    </tr>\n",
       "    <tr>\n",
       "      <th>5</th>\n",
       "      <td>74</td>\n",
       "      <td>english</td>\n",
       "      <td>0</td>\n",
       "    </tr>\n",
       "    <tr>\n",
       "      <th>6</th>\n",
       "      <td>51</td>\n",
       "      <td>maths</td>\n",
       "      <td>0</td>\n",
       "    </tr>\n",
       "    <tr>\n",
       "      <th>7</th>\n",
       "      <td>85</td>\n",
       "      <td>chemistry</td>\n",
       "      <td>0</td>\n",
       "    </tr>\n",
       "    <tr>\n",
       "      <th>8</th>\n",
       "      <td>40</td>\n",
       "      <td>physics</td>\n",
       "      <td>0</td>\n",
       "    </tr>\n",
       "    <tr>\n",
       "      <th>9</th>\n",
       "      <td>75</td>\n",
       "      <td>english</td>\n",
       "      <td>1</td>\n",
       "    </tr>\n",
       "    <tr>\n",
       "      <th>10</th>\n",
       "      <td>23</td>\n",
       "      <td>chemistry</td>\n",
       "      <td>0</td>\n",
       "    </tr>\n",
       "    <tr>\n",
       "      <th>11</th>\n",
       "      <td>19</td>\n",
       "      <td>chemistry</td>\n",
       "      <td>1</td>\n",
       "    </tr>\n",
       "    <tr>\n",
       "      <th>12</th>\n",
       "      <td>83</td>\n",
       "      <td>english</td>\n",
       "      <td>0</td>\n",
       "    </tr>\n",
       "    <tr>\n",
       "      <th>13</th>\n",
       "      <td>92</td>\n",
       "      <td>chemistry</td>\n",
       "      <td>0</td>\n",
       "    </tr>\n",
       "    <tr>\n",
       "      <th>14</th>\n",
       "      <td>63</td>\n",
       "      <td>english</td>\n",
       "      <td>0</td>\n",
       "    </tr>\n",
       "    <tr>\n",
       "      <th>15</th>\n",
       "      <td>37</td>\n",
       "      <td>english</td>\n",
       "      <td>0</td>\n",
       "    </tr>\n",
       "    <tr>\n",
       "      <th>16</th>\n",
       "      <td>76</td>\n",
       "      <td>english</td>\n",
       "      <td>1</td>\n",
       "    </tr>\n",
       "    <tr>\n",
       "      <th>17</th>\n",
       "      <td>18</td>\n",
       "      <td>chemistry</td>\n",
       "      <td>1</td>\n",
       "    </tr>\n",
       "    <tr>\n",
       "      <th>18</th>\n",
       "      <td>73</td>\n",
       "      <td>chemistry</td>\n",
       "      <td>0</td>\n",
       "    </tr>\n",
       "    <tr>\n",
       "      <th>19</th>\n",
       "      <td>76</td>\n",
       "      <td>chemistry</td>\n",
       "      <td>0</td>\n",
       "    </tr>\n",
       "  </tbody>\n",
       "</table>\n",
       "</div>"
      ],
      "text/plain": [
       "    students   subjects  default\n",
       "0         36  chemistry        0\n",
       "1         14    physics        0\n",
       "2         54  chemistry        0\n",
       "3          1    english        0\n",
       "4         40    english        1\n",
       "5         74    english        0\n",
       "6         51      maths        0\n",
       "7         85  chemistry        0\n",
       "8         40    physics        0\n",
       "9         75    english        1\n",
       "10        23  chemistry        0\n",
       "11        19  chemistry        1\n",
       "12        83    english        0\n",
       "13        92  chemistry        0\n",
       "14        63    english        0\n",
       "15        37    english        0\n",
       "16        76    english        1\n",
       "17        18  chemistry        1\n",
       "18        73  chemistry        0\n",
       "19        76  chemistry        0"
      ]
     },
     "execution_count": 33,
     "metadata": {},
     "output_type": "execute_result"
    }
   ],
   "source": [
    "df"
   ]
  },
  {
   "cell_type": "code",
   "execution_count": null,
   "id": "eb3c4161-f59e-4b1f-8026-88322f46ec25",
   "metadata": {},
   "outputs": [],
   "source": []
  }
 ],
 "metadata": {
  "kernelspec": {
   "display_name": "Python 3 (ipykernel)",
   "language": "python",
   "name": "python3"
  },
  "language_info": {
   "codemirror_mode": {
    "name": "ipython",
    "version": 3
   },
   "file_extension": ".py",
   "mimetype": "text/x-python",
   "name": "python",
   "nbconvert_exporter": "python",
   "pygments_lexer": "ipython3",
   "version": "3.11.7"
  }
 },
 "nbformat": 4,
 "nbformat_minor": 5
}
